{
 "cells": [
  {
   "cell_type": "code",
   "execution_count": 1,
   "id": "e779b027",
   "metadata": {},
   "outputs": [],
   "source": [
    "import numpy as np\n",
    "import matplotlib.pyplot as plt"
   ]
  },
  {
   "cell_type": "code",
   "execution_count": 6,
   "id": "25d1886b",
   "metadata": {},
   "outputs": [],
   "source": [
    "\n",
    "''' Peak indexing '''\n",
    "a = 4.7540 # Angstrom\n",
    "b = a\n",
    "c = 12.9820 # Angstrom\n",
    "\n",
    "alpha = np.deg2rad(90) # radians\n",
    "beta = alpha\n",
    "gamma = np.deg2rad(120)\n",
    "\n",
    "volume = a*b*c*(1-(np.cos(alpha))**2 - (np.cos(beta))**2 - (np.cos(gamma))**2 + 2*np.cos(alpha)*np.cos(beta)*np.cos(gamma))**0.5 # Angstrom^3\n",
    "wavelength = 1.78897\n",
    "\n",
    "s = lambda h,k,l: 0.5*np.sqrt((4/3)*((h**2 +h*k+k**2)/(a**2)) + l**2/c**2)\n",
    "tth = lambda h,k,l: 2*np.arcsin(s(h,k,l)*wavelength)*180/np.pi\n",
    "\n",
    "peak_table = np.array([[11,11,11,11]])\n",
    "num_indices = 15\n",
    "\n",
    "for h in range(0,num_indices):\n",
    "    for k in range(0,num_indices):\n",
    "        for l in range(0,num_indices):\n",
    "\n",
    "            if s(h,k,l)*wavelength <= 1:\n",
    "                angle = tth(h,k,l)\n",
    "            else:\n",
    "                angle = np.nan\n",
    "            \n",
    "            row = np.array([h,k,l, angle])\n",
    "            peak_table = np.vstack((peak_table,row))\n",
    "\n",
    "peak_table_valid = peak_table[~np.isnan(peak_table[:,3]),:]\n",
    "peak_table_final = peak_table_valid[np.logical_and(peak_table_valid[:,3] < 140, peak_table_valid[:,3] > 10)][1:,:]\n",
    "\n",
    "struc_fac_coeffs = np.genfromtxt('StructureFactorCoefficients.txt')\n",
    "\n",
    "sorted_peaks = peak_table_final[np.argsort(peak_table_final[:,3])]\n",
    "allowed = struc_fac_coeffs != 0\n",
    "peaks = sorted_peaks[allowed,:] \n",
    "\n",
    "fmt_specifiers = ['%d', '%d', '%d', '%.2f']\n",
    "np.savetxt('PeakIndexing.txt', peaks, fmt=fmt_specifiers, delimiter = '\\t')\n"
   ]
  }
 ],
 "metadata": {
  "kernelspec": {
   "display_name": "hux",
   "language": "python",
   "name": "python3"
  },
  "language_info": {
   "codemirror_mode": {
    "name": "ipython",
    "version": 3
   },
   "file_extension": ".py",
   "mimetype": "text/x-python",
   "name": "python",
   "nbconvert_exporter": "python",
   "pygments_lexer": "ipython3",
   "version": "3.13.5"
  }
 },
 "nbformat": 4,
 "nbformat_minor": 5
}
